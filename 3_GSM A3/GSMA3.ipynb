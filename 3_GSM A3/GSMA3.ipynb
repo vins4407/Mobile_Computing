{
  "cells": [
    {
      "cell_type": "code",
      "execution_count": 1,
      "metadata": {
        "colab": {
          "base_uri": "https://localhost:8080/"
        },
        "id": "YayZF380O-Ic",
        "outputId": "051a7b18-5f6e-4616-80c2-9dd7ce253ab4"
      },
      "outputs": [
        {
          "name": "stdout",
          "output_type": "stream",
          "text": [
            "128 Bit Key =  100000001001010011100010100011111111111011000010000110011110000011010111101010100011000111101111111001101110110011011111010001\n",
            "128 Random Bits Generated =  101111100001101100100011011001111001001001010010011011010100111100100010110001011011011100000110101011000010001110001000111010\n",
            "RES/SRES =  00111101111101111000000100010110\n"
          ]
        }
      ],
      "source": [
        "import random\n",
        "\n",
        "k=random.getrandbits(128)\n",
        "m=random.getrandbits(128)\n",
        "kb=bin(k)[2:]\n",
        "mb=bin(m)[2:]\n",
        "kbl=kb[0:64]\n",
        "kbr=kb[64:]\n",
        "mbl=mb[0:64]\n",
        "mbr=mb[64:]\n",
        "a1=int(kbl,2)^int(mbr,2)\n",
        "a2=int(kbr,2)^int(mbl,2)\n",
        "a3=a1^a2\n",
        "a4=bin(a3)[2:].zfill(64)\n",
        "a5=a4[0:32]\n",
        "a6=a4[32:]\n",
        "a7=int(a5,2)^int(a6,2)\n",
        "print(\"128 Bit Key = \",kb)\n",
        "print(\"128 Random Bits Generated = \",mb)\n",
        "print(\"RES/SRES = \",bin(a7)[2:].zfill(len(a5)))"
      ]
    }
  ],
  "metadata": {
    "colab": {
      "name": "GSMA3.ipynb",
      "provenance": []
    },
    "kernelspec": {
      "display_name": "Python 3",
      "name": "python3"
    },
    "language_info": {
      "codemirror_mode": {
        "name": "ipython",
        "version": 3
      },
      "file_extension": ".py",
      "mimetype": "text/x-python",
      "name": "python",
      "nbconvert_exporter": "python",
      "pygments_lexer": "ipython3",
      "version": "3.9.5"
    }
  },
  "nbformat": 4,
  "nbformat_minor": 0
}
